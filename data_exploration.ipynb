{
 "cells": [
  {
   "cell_type": "code",
   "execution_count": 1,
   "metadata": {
    "collapsed": true
   },
   "outputs": [],
   "source": [
    "import pandas as pd\n",
    "import os\n",
    "from datetime import datetime, timedelta\n",
    "from twarc.client2 import Twarc2\n",
    "from dotenv import load_dotenv\n",
    "from pprint import pprint\n",
    "\n",
    "# Setup environment\n",
    "load_dotenv()\n",
    "BEARER_TOKEN = os.getenv('BEARER_TOKEN')\n",
    "API_KEY = os.getenv('API_KEY')  # cosumer_key\n",
    "API_KEY_SECRET = os.getenv('API_KEY_SECRET')  # consumer_secret\n",
    "ACCESS_TOKEN = os.getenv('ACCESS_TOKEN')\n",
    "ACCESS_TOKEN_SECRET = os.getenv('ACCESS_TOKEN_SECRET')\n",
    "MY_ID = os.getenv('MY_ID')\n",
    "\n",
    "# Setup client\n",
    "t = Twarc2(consumer_key=API_KEY, consumer_secret=API_KEY_SECRET,\n",
    "           access_token=ACCESS_TOKEN, access_token_secret=ACCESS_TOKEN_SECRET,\n",
    "           bearer_token=BEARER_TOKEN, )\n",
    "\n",
    "\n",
    "# Main heavy lifting guy:\n",
    "def fetch_data() -> list:\n",
    "    users_i_follow = []\n",
    "    data_generator = t.following(user=MY_ID)\n",
    "\n",
    "    # Use generator to repeatedly get the next list of users:\n",
    "    for obj in data_generator:\n",
    "        users_i_follow.extend(obj['data']) if 'data' in obj.keys() \\\n",
    "            else users_i_follow.extend(obj['errors'])\n",
    "\n",
    "    return users_i_follow"
   ]
  },
  {
   "cell_type": "code",
   "execution_count": 11,
   "outputs": [
    {
     "name": "stdout",
     "output_type": "stream",
     "text": [
      "(False, set())\n"
     ]
    }
   ],
   "source": [
    "today = datetime.strftime(datetime.today(), '%b-%-d-%Y')\n",
    "yesterday = datetime.strftime((datetime.today() + timedelta(days=-1)), '%b-%-d-%Y')\n",
    "\n",
    "\n",
    "def is_following_list_identical():\n",
    "    td_df = pd.read_csv(f'static/{today}.csv')\n",
    "    yd_df = pd.read_csv(f'static/{yesterday}.csv')\n",
    "\n",
    "    # Default data contains a lot of extra columns, so they are dropped:\n",
    "    extra_columns = ['Unnamed: 0', 'entities.url.urls', 'entities.description.urls', 'public_metrics.followers_count',\n",
    "                     'public_metrics.following_count', 'public_metrics.tweet_count', 'public_metrics.listed_count',\n",
    "                     'entities.description.hashtags', 'entities.description.mentions', 'pinned_tweet_id',\n",
    "                     'entities.description.cashtags']\n",
    "    td_df.drop(columns=extra_columns, inplace=True)\n",
    "    yd_df.drop(columns=extra_columns, inplace=True)\n",
    "\n",
    "    # We can assume each user id is unique, so it can be added to a set for easy comparison\n",
    "    td_ids = set(td_df['id'])\n",
    "    yd_ids = set(yd_df['id'])\n",
    "\n",
    "    # To find differences that exist in either set, we use\n",
    "    # the `.symmetric_difference()` method.\n",
    "    # https://betterprogramming.pub/a-visual-guide-to-set-comparisons-in-python-6ab7edb9ec41\n",
    "    sym_diff = td_ids.symmetric_difference(yd_ids)\n",
    "\n",
    "    no_diff = len(sym_diff) == 0\n",
    "    if no_diff:\n",
    "        return False, sym_diff\n",
    "    else:\n",
    "        return True, sym_diff\n",
    "\n",
    "\n",
    "\n",
    "# TODO: Sanity check - write a function to plant a difference\n",
    "#  and see what happens to the behavior of the function.\n",
    "\n",
    "# following_today = fetch_data()\n",
    "# df = pd.json_normalize(following_today)\n",
    "# df.to_csv(f'static/{today}.csv')\n",
    "# df.to_csv(f'static/{yesterday}.csv')\n",
    "\n",
    "print(is_following_list_identical())"
   ],
   "metadata": {
    "collapsed": false,
    "pycharm": {
     "name": "#%%\n"
    }
   }
  },
  {
   "cell_type": "code",
   "execution_count": 69,
   "outputs": [],
   "source": [],
   "metadata": {
    "collapsed": false,
    "pycharm": {
     "name": "#%%\n"
    }
   }
  }
 ],
 "metadata": {
  "kernelspec": {
   "display_name": "Python 3",
   "language": "python",
   "name": "python3"
  },
  "language_info": {
   "codemirror_mode": {
    "name": "ipython",
    "version": 2
   },
   "file_extension": ".py",
   "mimetype": "text/x-python",
   "name": "python",
   "nbconvert_exporter": "python",
   "pygments_lexer": "ipython2",
   "version": "2.7.6"
  }
 },
 "nbformat": 4,
 "nbformat_minor": 0
}