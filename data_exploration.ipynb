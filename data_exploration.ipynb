{
 "cells": [
  {
   "cell_type": "code",
   "execution_count": 30,
   "metadata": {
    "collapsed": true
   },
   "outputs": [],
   "source": [
    "import pandas as pd\n",
    "import os\n",
    "from datetime import datetime, timedelta\n",
    "from twarc.client2 import Twarc2\n",
    "from dotenv import load_dotenv\n",
    "from pprint import pprint\n",
    "\n",
    "# Setup environment\n",
    "load_dotenv()\n",
    "BEARER_TOKEN = os.getenv('BEARER_TOKEN')\n",
    "API_KEY = os.getenv('API_KEY')  # cosumer_key\n",
    "API_KEY_SECRET = os.getenv('API_KEY_SECRET')  # consumer_secret\n",
    "ACCESS_TOKEN = os.getenv('ACCESS_TOKEN')\n",
    "ACCESS_TOKEN_SECRET = os.getenv('ACCESS_TOKEN_SECRET')\n",
    "MY_ID = os.getenv('MY_ID')\n",
    "\n",
    "# Setup client\n",
    "t = Twarc2(consumer_key=API_KEY, consumer_secret=API_KEY_SECRET,\n",
    "           access_token=ACCESS_TOKEN, access_token_secret=ACCESS_TOKEN_SECRET,\n",
    "           bearer_token=BEARER_TOKEN, )\n",
    "\n",
    "\n",
    "def fetch_twitter_data() -> list:\n",
    "    \"\"\"\n",
    "    Uses the twarc library to obtain data of the people I follow.\n",
    "    \"\"\"\n",
    "    users_i_follow = []\n",
    "    data_generator = t.following(user=MY_ID)\n",
    "\n",
    "    # Use generator to repeatedly get the next list of users:\n",
    "    for obj in data_generator:\n",
    "        users_i_follow.extend(obj['data']) if 'data' in obj.keys() \\\n",
    "            else users_i_follow.extend(obj['errors'])\n",
    "\n",
    "    return users_i_follow\n",
    "\n",
    "\n",
    "def get_dataframes() -> tuple:\n",
    "    \"\"\"\n",
    "    This function obtains the data of interest, puts it into\n",
    "    two pd.DataFrames, and returns a tuple like so:\n",
    "    (today: pd.DataFrame, yesterday: pd.DataFrame)\n",
    "    \"\"\"\n",
    "\n",
    "    # Initialize dates we will use:\n",
    "    today = datetime.strftime(datetime.today(), '%b-%-d-%Y')\n",
    "    yesterday = datetime.strftime((datetime.today() + timedelta(days=-1)), '%b-%-d-%Y')\n",
    "    two_days_ago = datetime.strftime((datetime.today() + timedelta(days=-2)), '%b-%-d-%Y')\n",
    "\n",
    "    # Get twitter data and save to csv, this is today's df\n",
    "    # following_today = fetch_twitter_data()\n",
    "    # todays_data = pd.json_normalize(following_today)\n",
    "    # todays_data.to_csv(f'static/{today}.csv')\n",
    "    todays_data = pd.read_csv(f'static/{today}.csv')\n",
    "\n",
    "    # Read yesterday's df from file:\n",
    "    yesterdays_data = pd.read_csv(f'static/{yesterday}.csv')\n",
    "\n",
    "    # Remove file from two days ago if it exists:\n",
    "    # FIXME: Ok to uncomment when ready to launch:\n",
    "    # try:\n",
    "    #     os.remove(f'static/{two_days_ago}.csv')\n",
    "    # except FileNotFoundError:\n",
    "    #     pass\n",
    "\n",
    "    return todays_data, yesterdays_data\n",
    "\n",
    "\n",
    "\n",
    "def plant_bad_seed(df: pd.DataFrame) -> pd.DataFrame:\n",
    "    \"\"\"\n",
    "    This function was created as a sanity check. I wanted to\n",
    "    write a function to plant a difference and see what\n",
    "    happens to the behavior of the `is_following_list_identical()` function.\n",
    "    \"\"\"\n",
    "    bad_seed = {\n",
    "        'description': ['some test person'],\n",
    "        'name': ['john doe'],\n",
    "        'location': ['somewhere idk'],\n",
    "        'profile_image_url': ['https://picsum.photos/id/237/200/300'],\n",
    "        'url': [''],\n",
    "        'verified': [False],\n",
    "        'protected': [False],\n",
    "        'id': ['666'],\n",
    "        'username': ['jd'],\n",
    "        'created_at': [datetime.now()],\n",
    "    }\n",
    "    bad_df = pd.DataFrame(bad_seed)\n",
    "    return pd.concat([df, bad_df], ignore_index=True, axis=0)\n"
   ]
  },
  {
   "cell_type": "code",
   "execution_count": 33,
   "outputs": [],
   "source": [
    "def is_following_list_identical(todays_df: pd.DataFrame, yesterdays_df: pd.DataFrame) -> tuple:\n",
    "    # Default data contains a lot of extra columns, so they are dropped:\n",
    "    extra_columns = ['entities.url.urls', 'entities.description.urls',\n",
    "                     'public_metrics.followers_count', 'public_metrics.following_count',\n",
    "                     'public_metrics.tweet_count', 'public_metrics.listed_count',\n",
    "                     'entities.description.hashtags', 'entities.description.mentions',\n",
    "                     'pinned_tweet_id', 'entities.description.cashtags',\n",
    "                     'Unnamed: 0', ]\n",
    "    todays_df.drop(columns=extra_columns, inplace=True)\n",
    "    yesterdays_df.drop(columns=extra_columns, inplace=True)\n",
    "\n",
    "    renamed_columns = ({'id': 'user_id'})\n",
    "    todays_df.rename(columns=renamed_columns, inplace=True)\n",
    "    yesterdays_df.rename(columns=renamed_columns, inplace=True)\n",
    "\n",
    "    # To find differences that exist in either dataframe, we use something called a \"symmetric difference\"\n",
    "    # between two sets. We can assume each user_id is unique, so that's what we use for comparison.\n",
    "    # https://www.adamsmith.haus/python/answers/how-to-get-the-symmetric-difference-of-pandas-dataframes-in-python\n",
    "    union = pd.concat([todays_df, yesterdays_df], axis=0)\n",
    "    sym_diff = union.drop_duplicates(subset='user_id', keep=False, inplace=False)\n",
    "\n",
    "    no_diff = len(sym_diff) == 0  # if empty, there are no differences\n",
    "    if no_diff:\n",
    "        return False, sym_diff\n",
    "    else:\n",
    "        return True, sym_diff\n",
    "\n",
    "\n",
    "# td_df = plant_bad_seed(td_df)  # use to test\n",
    "td_df, yd_df = get_dataframes()\n",
    "results = is_following_list_identical(todays_df=td_df, yesterdays_df=yd_df)"
   ],
   "metadata": {
    "collapsed": false,
    "pycharm": {
     "name": "#%%\n"
    }
   }
  },
  {
   "cell_type": "code",
   "execution_count": 37,
   "outputs": [
    {
     "data": {
      "text/plain": "                                      profile_image_url  protected  \\\n1130  https://pbs.twimg.com/profile_images/124798892...      False   \n14    https://pbs.twimg.com/profile_images/150510449...      False   \n1854  https://pbs.twimg.com/profile_images/732353224...       True   \n\n                  user_id        name  url  verified location  \\\n1130            130284358    Terrance  NaN     False      NaN   \n14    1436953813743804417  DEZ_🅱️🅾️ND  NaN     False      NaN   \n1854   725274207144157184  Flava_flav  NaN     False      NaN   \n\n                    created_at         username  \\\n1130  2010-04-06T21:42:09.000Z     stickysweett   \n14    2021-09-12T07:24:30.000Z         dez_bond   \n1854  2016-04-27T10:43:40.000Z  legal_feminista   \n\n                                            description  \n1130  🦦📸 Published Model. he/him #BLM #BlackTransliv...  \n14        Country boy living a country life 🦥 🏳️‍🌈 🏴‍☠️  \n1854                           Lawyer. Mother. Aotearoa  ",
      "text/html": "<div>\n<style scoped>\n    .dataframe tbody tr th:only-of-type {\n        vertical-align: middle;\n    }\n\n    .dataframe tbody tr th {\n        vertical-align: top;\n    }\n\n    .dataframe thead th {\n        text-align: right;\n    }\n</style>\n<table border=\"1\" class=\"dataframe\">\n  <thead>\n    <tr style=\"text-align: right;\">\n      <th></th>\n      <th>profile_image_url</th>\n      <th>protected</th>\n      <th>user_id</th>\n      <th>name</th>\n      <th>url</th>\n      <th>verified</th>\n      <th>location</th>\n      <th>created_at</th>\n      <th>username</th>\n      <th>description</th>\n    </tr>\n  </thead>\n  <tbody>\n    <tr>\n      <th>1130</th>\n      <td>https://pbs.twimg.com/profile_images/124798892...</td>\n      <td>False</td>\n      <td>130284358</td>\n      <td>Terrance</td>\n      <td>NaN</td>\n      <td>False</td>\n      <td>NaN</td>\n      <td>2010-04-06T21:42:09.000Z</td>\n      <td>stickysweett</td>\n      <td>🦦📸 Published Model. he/him #BLM #BlackTransliv...</td>\n    </tr>\n    <tr>\n      <th>14</th>\n      <td>https://pbs.twimg.com/profile_images/150510449...</td>\n      <td>False</td>\n      <td>1436953813743804417</td>\n      <td>DEZ_🅱️🅾️ND</td>\n      <td>NaN</td>\n      <td>False</td>\n      <td>NaN</td>\n      <td>2021-09-12T07:24:30.000Z</td>\n      <td>dez_bond</td>\n      <td>Country boy living a country life 🦥 🏳️‍🌈 🏴‍☠️</td>\n    </tr>\n    <tr>\n      <th>1854</th>\n      <td>https://pbs.twimg.com/profile_images/732353224...</td>\n      <td>True</td>\n      <td>725274207144157184</td>\n      <td>Flava_flav</td>\n      <td>NaN</td>\n      <td>False</td>\n      <td>NaN</td>\n      <td>2016-04-27T10:43:40.000Z</td>\n      <td>legal_feminista</td>\n      <td>Lawyer. Mother. Aotearoa</td>\n    </tr>\n  </tbody>\n</table>\n</div>"
     },
     "execution_count": 37,
     "metadata": {},
     "output_type": "execute_result"
    }
   ],
   "source": [
    "results[1].head()"
   ],
   "metadata": {
    "collapsed": false,
    "pycharm": {
     "name": "#%%\n"
    }
   }
  },
  {
   "cell_type": "code",
   "execution_count": null,
   "outputs": [],
   "source": [],
   "metadata": {
    "collapsed": false,
    "pycharm": {
     "name": "#%%\n"
    }
   }
  }
 ],
 "metadata": {
  "kernelspec": {
   "display_name": "Python 3",
   "language": "python",
   "name": "python3"
  },
  "language_info": {
   "codemirror_mode": {
    "name": "ipython",
    "version": 2
   },
   "file_extension": ".py",
   "mimetype": "text/x-python",
   "name": "python",
   "nbconvert_exporter": "python",
   "pygments_lexer": "ipython2",
   "version": "2.7.6"
  }
 },
 "nbformat": 4,
 "nbformat_minor": 0
}